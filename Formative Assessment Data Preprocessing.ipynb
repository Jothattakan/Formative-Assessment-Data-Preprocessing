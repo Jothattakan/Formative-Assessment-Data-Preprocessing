{
 "cells": [
  {
   "cell_type": "markdown",
   "id": "f9509501-da7e-4606-938c-a780c2f75421",
   "metadata": {},
   "source": [
    "<h1 align=\"middle\"> Formative Assessment Data Preprocessing</h1>"
   ]
  },
  {
   "cell_type": "markdown",
   "id": "8170196c-e181-42ef-9f76-df8c3fbb4559",
   "metadata": {},
   "source": [
    "<hr style=\"border-color: black;\">\n",
    "<h1 align=\"left\"><font color=\"blue\">Data Exploration And Statistical Analysis</font></h1>\n",
    "<hr style=\"border-color: black;\">"
   ]
  },
  {
   "cell_type": "markdown",
   "id": "43d6e6be-58d6-4bfd-97dc-06799c40211c",
   "metadata": {},
   "source": [
    "#### Importing all required modules"
   ]
  },
  {
   "cell_type": "code",
   "execution_count": 2,
   "id": "31757570-02a4-4ac5-8efd-1eab1ee42e77",
   "metadata": {},
   "outputs": [],
   "source": [
    "import numpy as np\n",
    "import pandas as pd\n",
    "import matplotlib.pyplot as plt\n",
    "import seaborn as sns"
   ]
  },
  {
   "cell_type": "code",
   "execution_count": 3,
   "id": "91a5d89e-d745-4613-ba6d-81121ff71273",
   "metadata": {},
   "outputs": [
    {
     "data": {
      "text/html": [
       "<div>\n",
       "<style scoped>\n",
       "    .dataframe tbody tr th:only-of-type {\n",
       "        vertical-align: middle;\n",
       "    }\n",
       "\n",
       "    .dataframe tbody tr th {\n",
       "        vertical-align: top;\n",
       "    }\n",
       "\n",
       "    .dataframe thead th {\n",
       "        text-align: right;\n",
       "    }\n",
       "</style>\n",
       "<table border=\"1\" class=\"dataframe\">\n",
       "  <thead>\n",
       "    <tr style=\"text-align: right;\">\n",
       "      <th></th>\n",
       "      <th>Company</th>\n",
       "      <th>Age</th>\n",
       "      <th>Salary</th>\n",
       "      <th>Place</th>\n",
       "      <th>Country</th>\n",
       "      <th>Gender</th>\n",
       "    </tr>\n",
       "  </thead>\n",
       "  <tbody>\n",
       "    <tr>\n",
       "      <th>0</th>\n",
       "      <td>TCS</td>\n",
       "      <td>20.0</td>\n",
       "      <td>NaN</td>\n",
       "      <td>Chennai</td>\n",
       "      <td>India</td>\n",
       "      <td>0</td>\n",
       "    </tr>\n",
       "    <tr>\n",
       "      <th>1</th>\n",
       "      <td>Infosys</td>\n",
       "      <td>30.0</td>\n",
       "      <td>NaN</td>\n",
       "      <td>Mumbai</td>\n",
       "      <td>India</td>\n",
       "      <td>0</td>\n",
       "    </tr>\n",
       "    <tr>\n",
       "      <th>2</th>\n",
       "      <td>TCS</td>\n",
       "      <td>35.0</td>\n",
       "      <td>2300.0</td>\n",
       "      <td>Calcutta</td>\n",
       "      <td>India</td>\n",
       "      <td>0</td>\n",
       "    </tr>\n",
       "    <tr>\n",
       "      <th>3</th>\n",
       "      <td>Infosys</td>\n",
       "      <td>40.0</td>\n",
       "      <td>3000.0</td>\n",
       "      <td>Delhi</td>\n",
       "      <td>India</td>\n",
       "      <td>0</td>\n",
       "    </tr>\n",
       "    <tr>\n",
       "      <th>4</th>\n",
       "      <td>TCS</td>\n",
       "      <td>23.0</td>\n",
       "      <td>4000.0</td>\n",
       "      <td>Mumbai</td>\n",
       "      <td>India</td>\n",
       "      <td>0</td>\n",
       "    </tr>\n",
       "    <tr>\n",
       "      <th>...</th>\n",
       "      <td>...</td>\n",
       "      <td>...</td>\n",
       "      <td>...</td>\n",
       "      <td>...</td>\n",
       "      <td>...</td>\n",
       "      <td>...</td>\n",
       "    </tr>\n",
       "    <tr>\n",
       "      <th>143</th>\n",
       "      <td>TCS</td>\n",
       "      <td>33.0</td>\n",
       "      <td>9024.0</td>\n",
       "      <td>Calcutta</td>\n",
       "      <td>India</td>\n",
       "      <td>1</td>\n",
       "    </tr>\n",
       "    <tr>\n",
       "      <th>144</th>\n",
       "      <td>Infosys</td>\n",
       "      <td>22.0</td>\n",
       "      <td>8787.0</td>\n",
       "      <td>Calcutta</td>\n",
       "      <td>India</td>\n",
       "      <td>1</td>\n",
       "    </tr>\n",
       "    <tr>\n",
       "      <th>145</th>\n",
       "      <td>Infosys</td>\n",
       "      <td>44.0</td>\n",
       "      <td>4034.0</td>\n",
       "      <td>Delhi</td>\n",
       "      <td>India</td>\n",
       "      <td>1</td>\n",
       "    </tr>\n",
       "    <tr>\n",
       "      <th>146</th>\n",
       "      <td>TCS</td>\n",
       "      <td>33.0</td>\n",
       "      <td>5034.0</td>\n",
       "      <td>Mumbai</td>\n",
       "      <td>India</td>\n",
       "      <td>1</td>\n",
       "    </tr>\n",
       "    <tr>\n",
       "      <th>147</th>\n",
       "      <td>Infosys</td>\n",
       "      <td>22.0</td>\n",
       "      <td>8202.0</td>\n",
       "      <td>Cochin</td>\n",
       "      <td>India</td>\n",
       "      <td>0</td>\n",
       "    </tr>\n",
       "  </tbody>\n",
       "</table>\n",
       "<p>148 rows × 6 columns</p>\n",
       "</div>"
      ],
      "text/plain": [
       "     Company   Age  Salary     Place Country  Gender\n",
       "0        TCS  20.0     NaN   Chennai   India       0\n",
       "1    Infosys  30.0     NaN    Mumbai   India       0\n",
       "2        TCS  35.0  2300.0  Calcutta   India       0\n",
       "3    Infosys  40.0  3000.0     Delhi   India       0\n",
       "4        TCS  23.0  4000.0    Mumbai   India       0\n",
       "..       ...   ...     ...       ...     ...     ...\n",
       "143      TCS  33.0  9024.0  Calcutta   India       1\n",
       "144  Infosys  22.0  8787.0  Calcutta   India       1\n",
       "145  Infosys  44.0  4034.0     Delhi   India       1\n",
       "146      TCS  33.0  5034.0    Mumbai   India       1\n",
       "147  Infosys  22.0  8202.0    Cochin   India       0\n",
       "\n",
       "[148 rows x 6 columns]"
      ]
     },
     "execution_count": 3,
     "metadata": {},
     "output_type": "execute_result"
    }
   ],
   "source": [
    "df = pd.read_csv('Employee.csv')\n",
    "df"
   ]
  },
  {
   "cell_type": "code",
   "execution_count": 4,
   "id": "ae5339cd-7a8f-4401-b182-d3d1a698ecec",
   "metadata": {},
   "outputs": [
    {
     "data": {
      "text/plain": [
       "(148, 6)"
      ]
     },
     "execution_count": 4,
     "metadata": {},
     "output_type": "execute_result"
    }
   ],
   "source": [
    "df.shape"
   ]
  },
  {
   "cell_type": "markdown",
   "id": "71ade2fc-6cd3-4406-936e-eb354a6383f9",
   "metadata": {},
   "source": [
    "<span style = 'background:yellow'>There are 148 rows adnf 6 columns in the dataset.</span>"
   ]
  },
  {
   "cell_type": "code",
   "execution_count": 6,
   "id": "dea5a73c-70ea-44e2-bbd3-83e644b5c34e",
   "metadata": {},
   "outputs": [
    {
     "data": {
      "text/html": [
       "<div>\n",
       "<style scoped>\n",
       "    .dataframe tbody tr th:only-of-type {\n",
       "        vertical-align: middle;\n",
       "    }\n",
       "\n",
       "    .dataframe tbody tr th {\n",
       "        vertical-align: top;\n",
       "    }\n",
       "\n",
       "    .dataframe thead th {\n",
       "        text-align: right;\n",
       "    }\n",
       "</style>\n",
       "<table border=\"1\" class=\"dataframe\">\n",
       "  <thead>\n",
       "    <tr style=\"text-align: right;\">\n",
       "      <th></th>\n",
       "      <th>Company</th>\n",
       "      <th>Age</th>\n",
       "      <th>Salary</th>\n",
       "      <th>Place</th>\n",
       "      <th>Country</th>\n",
       "      <th>Gender</th>\n",
       "    </tr>\n",
       "  </thead>\n",
       "  <tbody>\n",
       "    <tr>\n",
       "      <th>0</th>\n",
       "      <td>TCS</td>\n",
       "      <td>20.0</td>\n",
       "      <td>NaN</td>\n",
       "      <td>Chennai</td>\n",
       "      <td>India</td>\n",
       "      <td>0</td>\n",
       "    </tr>\n",
       "    <tr>\n",
       "      <th>1</th>\n",
       "      <td>Infosys</td>\n",
       "      <td>30.0</td>\n",
       "      <td>NaN</td>\n",
       "      <td>Mumbai</td>\n",
       "      <td>India</td>\n",
       "      <td>0</td>\n",
       "    </tr>\n",
       "    <tr>\n",
       "      <th>2</th>\n",
       "      <td>TCS</td>\n",
       "      <td>35.0</td>\n",
       "      <td>2300.0</td>\n",
       "      <td>Calcutta</td>\n",
       "      <td>India</td>\n",
       "      <td>0</td>\n",
       "    </tr>\n",
       "    <tr>\n",
       "      <th>3</th>\n",
       "      <td>Infosys</td>\n",
       "      <td>40.0</td>\n",
       "      <td>3000.0</td>\n",
       "      <td>Delhi</td>\n",
       "      <td>India</td>\n",
       "      <td>0</td>\n",
       "    </tr>\n",
       "    <tr>\n",
       "      <th>4</th>\n",
       "      <td>TCS</td>\n",
       "      <td>23.0</td>\n",
       "      <td>4000.0</td>\n",
       "      <td>Mumbai</td>\n",
       "      <td>India</td>\n",
       "      <td>0</td>\n",
       "    </tr>\n",
       "  </tbody>\n",
       "</table>\n",
       "</div>"
      ],
      "text/plain": [
       "   Company   Age  Salary     Place Country  Gender\n",
       "0      TCS  20.0     NaN   Chennai   India       0\n",
       "1  Infosys  30.0     NaN    Mumbai   India       0\n",
       "2      TCS  35.0  2300.0  Calcutta   India       0\n",
       "3  Infosys  40.0  3000.0     Delhi   India       0\n",
       "4      TCS  23.0  4000.0    Mumbai   India       0"
      ]
     },
     "execution_count": 6,
     "metadata": {},
     "output_type": "execute_result"
    }
   ],
   "source": [
    "df.head()"
   ]
  },
  {
   "cell_type": "code",
   "execution_count": 7,
   "id": "caf03fdb-9e22-4e5e-b4c7-87dd17da2ed2",
   "metadata": {},
   "outputs": [
    {
     "data": {
      "text/html": [
       "<div>\n",
       "<style scoped>\n",
       "    .dataframe tbody tr th:only-of-type {\n",
       "        vertical-align: middle;\n",
       "    }\n",
       "\n",
       "    .dataframe tbody tr th {\n",
       "        vertical-align: top;\n",
       "    }\n",
       "\n",
       "    .dataframe thead th {\n",
       "        text-align: right;\n",
       "    }\n",
       "</style>\n",
       "<table border=\"1\" class=\"dataframe\">\n",
       "  <thead>\n",
       "    <tr style=\"text-align: right;\">\n",
       "      <th></th>\n",
       "      <th>Company</th>\n",
       "      <th>Age</th>\n",
       "      <th>Salary</th>\n",
       "      <th>Place</th>\n",
       "      <th>Country</th>\n",
       "      <th>Gender</th>\n",
       "    </tr>\n",
       "  </thead>\n",
       "  <tbody>\n",
       "    <tr>\n",
       "      <th>143</th>\n",
       "      <td>TCS</td>\n",
       "      <td>33.0</td>\n",
       "      <td>9024.0</td>\n",
       "      <td>Calcutta</td>\n",
       "      <td>India</td>\n",
       "      <td>1</td>\n",
       "    </tr>\n",
       "    <tr>\n",
       "      <th>144</th>\n",
       "      <td>Infosys</td>\n",
       "      <td>22.0</td>\n",
       "      <td>8787.0</td>\n",
       "      <td>Calcutta</td>\n",
       "      <td>India</td>\n",
       "      <td>1</td>\n",
       "    </tr>\n",
       "    <tr>\n",
       "      <th>145</th>\n",
       "      <td>Infosys</td>\n",
       "      <td>44.0</td>\n",
       "      <td>4034.0</td>\n",
       "      <td>Delhi</td>\n",
       "      <td>India</td>\n",
       "      <td>1</td>\n",
       "    </tr>\n",
       "    <tr>\n",
       "      <th>146</th>\n",
       "      <td>TCS</td>\n",
       "      <td>33.0</td>\n",
       "      <td>5034.0</td>\n",
       "      <td>Mumbai</td>\n",
       "      <td>India</td>\n",
       "      <td>1</td>\n",
       "    </tr>\n",
       "    <tr>\n",
       "      <th>147</th>\n",
       "      <td>Infosys</td>\n",
       "      <td>22.0</td>\n",
       "      <td>8202.0</td>\n",
       "      <td>Cochin</td>\n",
       "      <td>India</td>\n",
       "      <td>0</td>\n",
       "    </tr>\n",
       "  </tbody>\n",
       "</table>\n",
       "</div>"
      ],
      "text/plain": [
       "     Company   Age  Salary     Place Country  Gender\n",
       "143      TCS  33.0  9024.0  Calcutta   India       1\n",
       "144  Infosys  22.0  8787.0  Calcutta   India       1\n",
       "145  Infosys  44.0  4034.0     Delhi   India       1\n",
       "146      TCS  33.0  5034.0    Mumbai   India       1\n",
       "147  Infosys  22.0  8202.0    Cochin   India       0"
      ]
     },
     "execution_count": 7,
     "metadata": {},
     "output_type": "execute_result"
    }
   ],
   "source": [
    "df.tail()"
   ]
  },
  {
   "cell_type": "code",
   "execution_count": 8,
   "id": "07438b21-b1f4-4490-8c13-5d84c27ef770",
   "metadata": {},
   "outputs": [
    {
     "name": "stdout",
     "output_type": "stream",
     "text": [
      "<class 'pandas.core.frame.DataFrame'>\n",
      "RangeIndex: 148 entries, 0 to 147\n",
      "Data columns (total 6 columns):\n",
      " #   Column   Non-Null Count  Dtype  \n",
      "---  ------   --------------  -----  \n",
      " 0   Company  140 non-null    object \n",
      " 1   Age      130 non-null    float64\n",
      " 2   Salary   124 non-null    float64\n",
      " 3   Place    134 non-null    object \n",
      " 4   Country  148 non-null    object \n",
      " 5   Gender   148 non-null    int64  \n",
      "dtypes: float64(2), int64(1), object(3)\n",
      "memory usage: 7.1+ KB\n"
     ]
    }
   ],
   "source": [
    "df.info()"
   ]
  },
  {
   "cell_type": "code",
   "execution_count": 9,
   "id": "6c02e65f-6def-4d3d-978d-874e70709102",
   "metadata": {},
   "outputs": [
    {
     "data": {
      "text/html": [
       "<div>\n",
       "<style scoped>\n",
       "    .dataframe tbody tr th:only-of-type {\n",
       "        vertical-align: middle;\n",
       "    }\n",
       "\n",
       "    .dataframe tbody tr th {\n",
       "        vertical-align: top;\n",
       "    }\n",
       "\n",
       "    .dataframe thead th {\n",
       "        text-align: right;\n",
       "    }\n",
       "</style>\n",
       "<table border=\"1\" class=\"dataframe\">\n",
       "  <thead>\n",
       "    <tr style=\"text-align: right;\">\n",
       "      <th></th>\n",
       "      <th>Age</th>\n",
       "      <th>Salary</th>\n",
       "      <th>Gender</th>\n",
       "    </tr>\n",
       "  </thead>\n",
       "  <tbody>\n",
       "    <tr>\n",
       "      <th>count</th>\n",
       "      <td>130.000000</td>\n",
       "      <td>124.000000</td>\n",
       "      <td>148.000000</td>\n",
       "    </tr>\n",
       "    <tr>\n",
       "      <th>mean</th>\n",
       "      <td>30.484615</td>\n",
       "      <td>5312.467742</td>\n",
       "      <td>0.222973</td>\n",
       "    </tr>\n",
       "    <tr>\n",
       "      <th>std</th>\n",
       "      <td>11.096640</td>\n",
       "      <td>2573.764683</td>\n",
       "      <td>0.417654</td>\n",
       "    </tr>\n",
       "    <tr>\n",
       "      <th>min</th>\n",
       "      <td>0.000000</td>\n",
       "      <td>1089.000000</td>\n",
       "      <td>0.000000</td>\n",
       "    </tr>\n",
       "    <tr>\n",
       "      <th>25%</th>\n",
       "      <td>22.000000</td>\n",
       "      <td>3030.000000</td>\n",
       "      <td>0.000000</td>\n",
       "    </tr>\n",
       "    <tr>\n",
       "      <th>50%</th>\n",
       "      <td>32.500000</td>\n",
       "      <td>5000.000000</td>\n",
       "      <td>0.000000</td>\n",
       "    </tr>\n",
       "    <tr>\n",
       "      <th>75%</th>\n",
       "      <td>37.750000</td>\n",
       "      <td>8000.000000</td>\n",
       "      <td>0.000000</td>\n",
       "    </tr>\n",
       "    <tr>\n",
       "      <th>max</th>\n",
       "      <td>54.000000</td>\n",
       "      <td>9876.000000</td>\n",
       "      <td>1.000000</td>\n",
       "    </tr>\n",
       "  </tbody>\n",
       "</table>\n",
       "</div>"
      ],
      "text/plain": [
       "              Age       Salary      Gender\n",
       "count  130.000000   124.000000  148.000000\n",
       "mean    30.484615  5312.467742    0.222973\n",
       "std     11.096640  2573.764683    0.417654\n",
       "min      0.000000  1089.000000    0.000000\n",
       "25%     22.000000  3030.000000    0.000000\n",
       "50%     32.500000  5000.000000    0.000000\n",
       "75%     37.750000  8000.000000    0.000000\n",
       "max     54.000000  9876.000000    1.000000"
      ]
     },
     "execution_count": 9,
     "metadata": {},
     "output_type": "execute_result"
    }
   ],
   "source": [
    "df.describe()"
   ]
  },
  {
   "cell_type": "markdown",
   "id": "f66659b8-8299-4f42-8d61-c3c4be6bed6b",
   "metadata": {},
   "source": [
    "#### Identify Numerical And Categorical Columns"
   ]
  },
  {
   "cell_type": "code",
   "execution_count": 10,
   "id": "dac4c1b5-549e-44d5-8e0c-c2d962c7d1de",
   "metadata": {},
   "outputs": [
    {
     "name": "stdout",
     "output_type": "stream",
     "text": [
      "Index(['Age', 'Salary', 'Gender'], dtype='object')\n",
      "Index(['Company', 'Place', 'Country'], dtype='object')\n"
     ]
    }
   ],
   "source": [
    "numerical_columns = df.select_dtypes(include = 'number').columns\n",
    "print(numerical_columns)\n",
    "\n",
    "categorical_columns = df.select_dtypes(include = 'object').columns\n",
    "print(categorical_columns)"
   ]
  },
  {
   "cell_type": "markdown",
   "id": "2a003d85-0fca-4f96-b1b6-4f5610efb7e1",
   "metadata": {},
   "source": [
    "<span style = 'background:yellow'>Out of 6 columns, 3 Categorical and 3 numerical columns But one of numerical column is Label encoding of employe's gender.</span>"
   ]
  },
  {
   "cell_type": "markdown",
   "id": "33eb9a33-4eb8-4407-923d-f5b030f46ff1",
   "metadata": {},
   "source": [
    "#### Checking Value Counts of Categorical Columns"
   ]
  },
  {
   "cell_type": "code",
   "execution_count": 11,
   "id": "4e1be317-c73f-4ceb-bcf7-fb8d77e99caa",
   "metadata": {},
   "outputs": [
    {
     "name": "stdout",
     "output_type": "stream",
     "text": [
      "Company Value Count:Company\n",
      "TCS                          53\n",
      "Infosys                      45\n",
      "CTS                          36\n",
      "Tata Consultancy Services     2\n",
      "Congnizant                    2\n",
      "Infosys Pvt Lmt               2\n",
      "Name: count, dtype: int64\n",
      "\n",
      "Place Value Count:Place\n",
      "Mumbai        37\n",
      "Calcutta      33\n",
      "Chennai       14\n",
      "Delhi         14\n",
      "Cochin        13\n",
      "Noida          8\n",
      "Hyderabad      8\n",
      "Podicherry     3\n",
      "Pune           2\n",
      "Bhopal         1\n",
      "Nagpur         1\n",
      "Name: count, dtype: int64\n",
      "\n",
      "Country Value Count:Country\n",
      "India    148\n",
      "Name: count, dtype: int64\n"
     ]
    }
   ],
   "source": [
    "value_counts_company = df['Company'].value_counts()\n",
    "value_counts_place = df['Place'].value_counts()\n",
    "value_counts_country = df['Country'].value_counts()\n",
    "\n",
    "print(f\"Company Value Count:{value_counts_company}\")\n",
    "print(f\"\\nPlace Value Count:{value_counts_place}\")\n",
    "print(f\"\\nCountry Value Count:{value_counts_country}\")"
   ]
  },
  {
   "cell_type": "markdown",
   "id": "4f9606e8-b0eb-4eef-a3a2-e30c2456e36a",
   "metadata": {},
   "source": [
    "#### Checking Unique, nunique Values"
   ]
  },
  {
   "cell_type": "code",
   "execution_count": 12,
   "id": "16da2ce8-665e-49db-9ed8-a5dcad525039",
   "metadata": {},
   "outputs": [
    {
     "name": "stdout",
     "output_type": "stream",
     "text": [
      "Company Unique value:['TCS' 'Infosys' 'CTS' nan 'Tata Consultancy Services' 'Congnizant'\n",
      " 'Infosys Pvt Lmt']\n",
      "Company Nunique value:6\n",
      "\n",
      "Place Unique value:['Chennai' 'Mumbai' 'Calcutta' 'Delhi' 'Podicherry' 'Cochin' nan 'Noida'\n",
      " 'Hyderabad' 'Bhopal' 'Nagpur' 'Pune']\n",
      "Place Nunique value:11\n",
      "\n",
      "Country Unique value:['India']\n",
      "Country Nunique value:1\n"
     ]
    }
   ],
   "source": [
    "unique_values_company = df['Company'].unique()\n",
    "nunique_values_company = df['Company'].nunique()\n",
    "\n",
    "unique_values_place = df['Place'].unique()\n",
    "nunique_values_place = df['Place'].nunique()\n",
    "\n",
    "unique_values_country = df['Country'].unique()\n",
    "nunique_values_country = df['Country'].nunique()\n",
    "\n",
    "print(f\"Company Unique value:{unique_values_company}\")\n",
    "print(f\"Company Nunique value:{nunique_values_company}\")\n",
    "print(f\"\\nPlace Unique value:{unique_values_place}\")\n",
    "print(f\"Place Nunique value:{nunique_values_place}\")\n",
    "print(f\"\\nCountry Unique value:{unique_values_country}\")\n",
    "print(f\"Country Nunique value:{nunique_values_country}\")"
   ]
  },
  {
   "cell_type": "markdown",
   "id": "56efeb68-7068-489b-8a5d-4072bc328db5",
   "metadata": {},
   "source": [
    "<span style = 'background:yellow'>There are 6 companies located in 11 places in India.</span>"
   ]
  },
  {
   "cell_type": "markdown",
   "id": "c14c418a-5b9b-4e2e-93bf-c6802a344c7a",
   "metadata": {},
   "source": [
    "### Checking for null values"
   ]
  },
  {
   "cell_type": "code",
   "execution_count": 13,
   "id": "823859f3-ec6d-4466-8e43-4193dc12003c",
   "metadata": {},
   "outputs": [
    {
     "data": {
      "text/plain": [
       "Company     8\n",
       "Age        18\n",
       "Salary     24\n",
       "Place      14\n",
       "Country     0\n",
       "Gender      0\n",
       "dtype: int64"
      ]
     },
     "execution_count": 13,
     "metadata": {},
     "output_type": "execute_result"
    }
   ],
   "source": [
    "df.isnull().sum()"
   ]
  },
  {
   "cell_type": "markdown",
   "id": "0d12bb21-b648-4cc9-a0fd-974e76126a9a",
   "metadata": {},
   "source": [
    "<span style = 'background:yellow'>There are null values found in Company, Age, Salary and Place columns.</span>"
   ]
  },
  {
   "cell_type": "markdown",
   "id": "7f60780f-e8b4-4940-ad1a-0fc57df6815d",
   "metadata": {},
   "source": [
    "### Checking for duplicate values"
   ]
  },
  {
   "cell_type": "code",
   "execution_count": 14,
   "id": "e612f392-211d-415e-bdb6-f5f0dff75677",
   "metadata": {},
   "outputs": [
    {
     "data": {
      "text/plain": [
       "4"
      ]
     },
     "execution_count": 14,
     "metadata": {},
     "output_type": "execute_result"
    }
   ],
   "source": [
    "df.duplicated().sum()"
   ]
  },
  {
   "cell_type": "markdown",
   "id": "1d6bd106-cfbc-4e87-a213-911e1b51f716",
   "metadata": {},
   "source": [
    "<span style = 'background:yellow'>There are 4 duplicate values.</span>"
   ]
  },
  {
   "cell_type": "markdown",
   "id": "fdc98f9a-6f67-46aa-a1f9-efe0707519d1",
   "metadata": {},
   "source": [
    "<hr style=\"border-color: black;\">\n",
    "<h1 align=\"left\"><font color=\"blue\">Data Cleaning</font></h1>\n",
    "<hr style=\"border-color: black;\">"
   ]
  },
  {
   "cell_type": "markdown",
   "id": "8eb58705-116e-48e3-8a92-3e7650daea3a",
   "metadata": {},
   "source": [
    "### Find the missing and inappropriate values, treat them appropriately."
   ]
  },
  {
   "cell_type": "markdown",
   "id": "3ee21bab-6fb1-4add-8c39-f8786a292384",
   "metadata": {},
   "source": [
    "### Removing duplicate values"
   ]
  },
  {
   "cell_type": "code",
   "execution_count": 15,
   "id": "34d58794-9196-4bda-b3c7-5533dc8ff128",
   "metadata": {},
   "outputs": [
    {
     "data": {
      "text/html": [
       "<div>\n",
       "<style scoped>\n",
       "    .dataframe tbody tr th:only-of-type {\n",
       "        vertical-align: middle;\n",
       "    }\n",
       "\n",
       "    .dataframe tbody tr th {\n",
       "        vertical-align: top;\n",
       "    }\n",
       "\n",
       "    .dataframe thead th {\n",
       "        text-align: right;\n",
       "    }\n",
       "</style>\n",
       "<table border=\"1\" class=\"dataframe\">\n",
       "  <thead>\n",
       "    <tr style=\"text-align: right;\">\n",
       "      <th></th>\n",
       "      <th>Company</th>\n",
       "      <th>Age</th>\n",
       "      <th>Salary</th>\n",
       "      <th>Place</th>\n",
       "      <th>Country</th>\n",
       "      <th>Gender</th>\n",
       "    </tr>\n",
       "  </thead>\n",
       "  <tbody>\n",
       "    <tr>\n",
       "      <th>0</th>\n",
       "      <td>TCS</td>\n",
       "      <td>20.0</td>\n",
       "      <td>NaN</td>\n",
       "      <td>Chennai</td>\n",
       "      <td>India</td>\n",
       "      <td>0</td>\n",
       "    </tr>\n",
       "    <tr>\n",
       "      <th>1</th>\n",
       "      <td>Infosys</td>\n",
       "      <td>30.0</td>\n",
       "      <td>NaN</td>\n",
       "      <td>Mumbai</td>\n",
       "      <td>India</td>\n",
       "      <td>0</td>\n",
       "    </tr>\n",
       "    <tr>\n",
       "      <th>2</th>\n",
       "      <td>TCS</td>\n",
       "      <td>35.0</td>\n",
       "      <td>2300.0</td>\n",
       "      <td>Calcutta</td>\n",
       "      <td>India</td>\n",
       "      <td>0</td>\n",
       "    </tr>\n",
       "    <tr>\n",
       "      <th>3</th>\n",
       "      <td>Infosys</td>\n",
       "      <td>40.0</td>\n",
       "      <td>3000.0</td>\n",
       "      <td>Delhi</td>\n",
       "      <td>India</td>\n",
       "      <td>0</td>\n",
       "    </tr>\n",
       "    <tr>\n",
       "      <th>4</th>\n",
       "      <td>TCS</td>\n",
       "      <td>23.0</td>\n",
       "      <td>4000.0</td>\n",
       "      <td>Mumbai</td>\n",
       "      <td>India</td>\n",
       "      <td>0</td>\n",
       "    </tr>\n",
       "    <tr>\n",
       "      <th>...</th>\n",
       "      <td>...</td>\n",
       "      <td>...</td>\n",
       "      <td>...</td>\n",
       "      <td>...</td>\n",
       "      <td>...</td>\n",
       "      <td>...</td>\n",
       "    </tr>\n",
       "    <tr>\n",
       "      <th>139</th>\n",
       "      <td>Infosys Pvt Lmt</td>\n",
       "      <td>22.0</td>\n",
       "      <td>8202.0</td>\n",
       "      <td>Mumbai</td>\n",
       "      <td>India</td>\n",
       "      <td>0</td>\n",
       "    </tr>\n",
       "    <tr>\n",
       "      <th>140</th>\n",
       "      <td>TCS</td>\n",
       "      <td>33.0</td>\n",
       "      <td>9024.0</td>\n",
       "      <td>Calcutta</td>\n",
       "      <td>India</td>\n",
       "      <td>1</td>\n",
       "    </tr>\n",
       "    <tr>\n",
       "      <th>141</th>\n",
       "      <td>Infosys</td>\n",
       "      <td>44.0</td>\n",
       "      <td>4034.0</td>\n",
       "      <td>Delhi</td>\n",
       "      <td>India</td>\n",
       "      <td>1</td>\n",
       "    </tr>\n",
       "    <tr>\n",
       "      <th>142</th>\n",
       "      <td>TCS</td>\n",
       "      <td>33.0</td>\n",
       "      <td>5034.0</td>\n",
       "      <td>Mumbai</td>\n",
       "      <td>India</td>\n",
       "      <td>1</td>\n",
       "    </tr>\n",
       "    <tr>\n",
       "      <th>143</th>\n",
       "      <td>Infosys</td>\n",
       "      <td>22.0</td>\n",
       "      <td>8202.0</td>\n",
       "      <td>Cochin</td>\n",
       "      <td>India</td>\n",
       "      <td>0</td>\n",
       "    </tr>\n",
       "  </tbody>\n",
       "</table>\n",
       "<p>144 rows × 6 columns</p>\n",
       "</div>"
      ],
      "text/plain": [
       "             Company   Age  Salary     Place Country  Gender\n",
       "0                TCS  20.0     NaN   Chennai   India       0\n",
       "1            Infosys  30.0     NaN    Mumbai   India       0\n",
       "2                TCS  35.0  2300.0  Calcutta   India       0\n",
       "3            Infosys  40.0  3000.0     Delhi   India       0\n",
       "4                TCS  23.0  4000.0    Mumbai   India       0\n",
       "..               ...   ...     ...       ...     ...     ...\n",
       "139  Infosys Pvt Lmt  22.0  8202.0    Mumbai   India       0\n",
       "140              TCS  33.0  9024.0  Calcutta   India       1\n",
       "141          Infosys  44.0  4034.0     Delhi   India       1\n",
       "142              TCS  33.0  5034.0    Mumbai   India       1\n",
       "143          Infosys  22.0  8202.0    Cochin   India       0\n",
       "\n",
       "[144 rows x 6 columns]"
      ]
     },
     "execution_count": 15,
     "metadata": {},
     "output_type": "execute_result"
    }
   ],
   "source": [
    "new_df = df.copy()\n",
    "unique_df = new_df.drop_duplicates().reset_index(drop = True)\n",
    "unique_df"
   ]
  },
  {
   "cell_type": "code",
   "execution_count": 16,
   "id": "320642d1-cc15-4723-81c0-874624df5bd5",
   "metadata": {},
   "outputs": [
    {
     "data": {
      "text/plain": [
       "Company     8\n",
       "Age        17\n",
       "Salary     23\n",
       "Place      14\n",
       "Country     0\n",
       "Gender      0\n",
       "dtype: int64"
      ]
     },
     "execution_count": 16,
     "metadata": {},
     "output_type": "execute_result"
    }
   ],
   "source": [
    "unique_df.isnull().sum()"
   ]
  },
  {
   "cell_type": "markdown",
   "id": "0beb8a77-0ea4-4f8c-b385-935b0cf37a7b",
   "metadata": {},
   "source": [
    "<span style = 'background:yellow'>The missing values in the column Company and Place can be replaced with the mode value, the missing values in the column Age and Salary can be replaced with the mean value and the values in the column gender are in appropriate cane be replaced with Male and Female accordingly.</span>"
   ]
  },
  {
   "cell_type": "code",
   "execution_count": 17,
   "id": "da2309f1-a6a0-4006-88b5-dde911a20d07",
   "metadata": {},
   "outputs": [
    {
     "data": {
      "text/html": [
       "<div>\n",
       "<style scoped>\n",
       "    .dataframe tbody tr th:only-of-type {\n",
       "        vertical-align: middle;\n",
       "    }\n",
       "\n",
       "    .dataframe tbody tr th {\n",
       "        vertical-align: top;\n",
       "    }\n",
       "\n",
       "    .dataframe thead th {\n",
       "        text-align: right;\n",
       "    }\n",
       "</style>\n",
       "<table border=\"1\" class=\"dataframe\">\n",
       "  <thead>\n",
       "    <tr style=\"text-align: right;\">\n",
       "      <th></th>\n",
       "      <th>Age</th>\n",
       "      <th>Salary</th>\n",
       "      <th>Gender</th>\n",
       "    </tr>\n",
       "  </thead>\n",
       "  <tbody>\n",
       "    <tr>\n",
       "      <th>count</th>\n",
       "      <td>127.000000</td>\n",
       "      <td>121.000000</td>\n",
       "      <td>144.000000</td>\n",
       "    </tr>\n",
       "    <tr>\n",
       "      <th>mean</th>\n",
       "      <td>30.527559</td>\n",
       "      <td>5283.471074</td>\n",
       "      <td>0.222222</td>\n",
       "    </tr>\n",
       "    <tr>\n",
       "      <th>std</th>\n",
       "      <td>11.114717</td>\n",
       "      <td>2585.373600</td>\n",
       "      <td>0.417191</td>\n",
       "    </tr>\n",
       "    <tr>\n",
       "      <th>min</th>\n",
       "      <td>0.000000</td>\n",
       "      <td>1089.000000</td>\n",
       "      <td>0.000000</td>\n",
       "    </tr>\n",
       "    <tr>\n",
       "      <th>25%</th>\n",
       "      <td>22.000000</td>\n",
       "      <td>3030.000000</td>\n",
       "      <td>0.000000</td>\n",
       "    </tr>\n",
       "    <tr>\n",
       "      <th>50%</th>\n",
       "      <td>33.000000</td>\n",
       "      <td>5000.000000</td>\n",
       "      <td>0.000000</td>\n",
       "    </tr>\n",
       "    <tr>\n",
       "      <th>75%</th>\n",
       "      <td>37.500000</td>\n",
       "      <td>8000.000000</td>\n",
       "      <td>0.000000</td>\n",
       "    </tr>\n",
       "    <tr>\n",
       "      <th>max</th>\n",
       "      <td>54.000000</td>\n",
       "      <td>9876.000000</td>\n",
       "      <td>1.000000</td>\n",
       "    </tr>\n",
       "  </tbody>\n",
       "</table>\n",
       "</div>"
      ],
      "text/plain": [
       "              Age       Salary      Gender\n",
       "count  127.000000   121.000000  144.000000\n",
       "mean    30.527559  5283.471074    0.222222\n",
       "std     11.114717  2585.373600    0.417191\n",
       "min      0.000000  1089.000000    0.000000\n",
       "25%     22.000000  3030.000000    0.000000\n",
       "50%     33.000000  5000.000000    0.000000\n",
       "75%     37.500000  8000.000000    0.000000\n",
       "max     54.000000  9876.000000    1.000000"
      ]
     },
     "execution_count": 17,
     "metadata": {},
     "output_type": "execute_result"
    }
   ],
   "source": [
    "unique_df.describe()"
   ]
  },
  {
   "cell_type": "markdown",
   "id": "a3240a28-0636-45b6-bc39-903eaf25f072",
   "metadata": {},
   "source": [
    "### Checking Outliers in Age and Salary"
   ]
  },
  {
   "cell_type": "code",
   "execution_count": 19,
   "id": "062dec3e-ed01-4382-ae7a-e0a700c40841",
   "metadata": {},
   "outputs": [
    {
     "data": {
      "text/plain": [
       "Text(0.5, 1.0, 'Boxplot - Age')"
      ]
     },
     "execution_count": 19,
     "metadata": {},
     "output_type": "execute_result"
    },
    {
     "data": {
      "image/png": "[encoded data removed]",
      "text/plain": [
       "<Figure size 1000x200 with 1 Axes>"
      ]
     },
     "metadata": {},
     "output_type": "display_data"
    }
   ],
   "source": [
    "plt.figure(figsize=(10, 2))\n",
    "sns.boxplot(x = 'Age', data = unique_df)\n",
    "plt.title('Boxplot - Age')"
   ]
  },
  {
   "cell_type": "code",
   "execution_count": 20,
   "id": "ad7961f2-cfc6-4001-b902-a77e0eae78b8",
   "metadata": {},
   "outputs": [
    {
     "data": {
      "text/plain": [
       "Text(0.5, 1.0, 'Boxplot - Salary')"
      ]
     },
     "execution_count": 20,
     "metadata": {},
     "output_type": "execute_result"
    },
    {
     "data": {
      "image/png": "[encoded data removed]",
      "text/plain": [
       "<Figure size 1000x200 with 1 Axes>"
      ]
     },
     "metadata": {},
     "output_type": "display_data"
    }
   ],
   "source": [
    "plt.figure(figsize=(10, 2))\n",
    "sns.boxplot(x = 'Salary', data = unique_df)\n",
    "plt.title('Boxplot - Salary')"
   ]
  },
  {
   "cell_type": "markdown",
   "id": "6736fb8a-07c5-49eb-80d2-1e3ea7678ce2",
   "metadata": {},
   "source": [
    "### Using IQR- Method Finding the outliers in the column Age and Salary."
   ]
  },
  {
   "cell_type": "code",
   "execution_count": 21,
   "id": "406e1b33-2b99-46b4-83ff-a27740ae4290",
   "metadata": {},
   "outputs": [
    {
     "name": "stdout",
     "output_type": "stream",
     "text": [
      "Q1:22.0\n",
      "Q3:37.5\n",
      "IQR:15.5\n"
     ]
    }
   ],
   "source": [
    "a_q1 = unique_df['Age'].quantile(0.25)\n",
    "a_q3 = unique_df['Age'].quantile(0.75)\n",
    "a_iqr = a_q3 - a_q1\n",
    "\n",
    "print(f'Q1:{a_q1}')\n",
    "print(f'Q3:{a_q3}')\n",
    "print(f'IQR:{a_iqr}')"
   ]
  },
  {
   "cell_type": "code",
   "execution_count": 22,
   "id": "cf1cf7d1-49c4-4581-9533-be9bf053171f",
   "metadata": {},
   "outputs": [
    {
     "name": "stdout",
     "output_type": "stream",
     "text": [
      "Upper limit:, 60.75\n",
      "Lower limit:, 14.25\n"
     ]
    }
   ],
   "source": [
    "upper_limit_age = a_q3 + (1.5 * a_iqr)\n",
    "lower_limit_age = a_q3 - (1.5 * a_iqr)\n",
    "print(f\"Upper limit:, {upper_limit_age}\")\n",
    "print(f\"Lower limit:, {lower_limit_age}\")"
   ]
  },
  {
   "cell_type": "code",
   "execution_count": 23,
   "id": "d0ad0d66-4ae3-406c-85f3-e438d3a53e28",
   "metadata": {},
   "outputs": [
    {
     "name": "stdout",
     "output_type": "stream",
     "text": [
      "Outliers:\n"
     ]
    },
    {
     "data": {
      "text/html": [
       "<div>\n",
       "<style scoped>\n",
       "    .dataframe tbody tr th:only-of-type {\n",
       "        vertical-align: middle;\n",
       "    }\n",
       "\n",
       "    .dataframe tbody tr th {\n",
       "        vertical-align: top;\n",
       "    }\n",
       "\n",
       "    .dataframe thead th {\n",
       "        text-align: right;\n",
       "    }\n",
       "</style>\n",
       "<table border=\"1\" class=\"dataframe\">\n",
       "  <thead>\n",
       "    <tr style=\"text-align: right;\">\n",
       "      <th></th>\n",
       "      <th>Company</th>\n",
       "      <th>Age</th>\n",
       "      <th>Salary</th>\n",
       "      <th>Place</th>\n",
       "      <th>Country</th>\n",
       "      <th>Gender</th>\n",
       "    </tr>\n",
       "  </thead>\n",
       "  <tbody>\n",
       "    <tr>\n",
       "      <th>87</th>\n",
       "      <td>Infosys</td>\n",
       "      <td>0.0</td>\n",
       "      <td>3030.0</td>\n",
       "      <td>Calcutta</td>\n",
       "      <td>India</td>\n",
       "      <td>0</td>\n",
       "    </tr>\n",
       "    <tr>\n",
       "      <th>91</th>\n",
       "      <td>TCS</td>\n",
       "      <td>0.0</td>\n",
       "      <td>3045.0</td>\n",
       "      <td>Delhi</td>\n",
       "      <td>India</td>\n",
       "      <td>0</td>\n",
       "    </tr>\n",
       "    <tr>\n",
       "      <th>100</th>\n",
       "      <td>CTS</td>\n",
       "      <td>0.0</td>\n",
       "      <td>2034.0</td>\n",
       "      <td>Podicherry</td>\n",
       "      <td>India</td>\n",
       "      <td>0</td>\n",
       "    </tr>\n",
       "    <tr>\n",
       "      <th>106</th>\n",
       "      <td>TCS</td>\n",
       "      <td>0.0</td>\n",
       "      <td>9024.0</td>\n",
       "      <td>Chennai</td>\n",
       "      <td>India</td>\n",
       "      <td>1</td>\n",
       "    </tr>\n",
       "    <tr>\n",
       "      <th>110</th>\n",
       "      <td>Infosys</td>\n",
       "      <td>0.0</td>\n",
       "      <td>3234.0</td>\n",
       "      <td>Mumbai</td>\n",
       "      <td>India</td>\n",
       "      <td>0</td>\n",
       "    </tr>\n",
       "    <tr>\n",
       "      <th>120</th>\n",
       "      <td>CTS</td>\n",
       "      <td>0.0</td>\n",
       "      <td>1234.0</td>\n",
       "      <td>Calcutta</td>\n",
       "      <td>India</td>\n",
       "      <td>0</td>\n",
       "    </tr>\n",
       "  </tbody>\n",
       "</table>\n",
       "</div>"
      ],
      "text/plain": [
       "     Company  Age  Salary       Place Country  Gender\n",
       "87   Infosys  0.0  3030.0    Calcutta   India       0\n",
       "91       TCS  0.0  3045.0       Delhi   India       0\n",
       "100      CTS  0.0  2034.0  Podicherry   India       0\n",
       "106      TCS  0.0  9024.0     Chennai   India       1\n",
       "110  Infosys  0.0  3234.0      Mumbai   India       0\n",
       "120      CTS  0.0  1234.0    Calcutta   India       0"
      ]
     },
     "execution_count": 23,
     "metadata": {},
     "output_type": "execute_result"
    }
   ],
   "source": [
    "# Find outliers in Age\n",
    "outliers = unique_df.loc[(unique_df['Age'] > upper_limit_age) | (unique_df['Age'] < lower_limit_age)]\n",
    "print(\"Outliers:\")\n",
    "outliers"
   ]
  },
  {
   "cell_type": "markdown",
   "id": "66b15f4c-1334-4668-804f-b5e6b18a82b9",
   "metadata": {},
   "source": [
    "<span style = 'background:yellow'>All the Outliers in age column value 0.</span>"
   ]
  },
  {
   "cell_type": "code",
   "execution_count": 24,
   "id": "f2202602-c2aa-4500-8403-71c80b89341d",
   "metadata": {},
   "outputs": [
    {
     "name": "stdout",
     "output_type": "stream",
     "text": [
      "Q1:3030.0\n",
      "Q3:8000.0\n",
      "IQR:4970.0\n"
     ]
    }
   ],
   "source": [
    "s_q1 = unique_df['Salary'].quantile(0.25)\n",
    "s_q3 = unique_df['Salary'].quantile(0.75)\n",
    "s_iqr = s_q3 - s_q1\n",
    "\n",
    "print(f'Q1:{s_q1}')\n",
    "print(f'Q3:{s_q3}')\n",
    "print(f'IQR:{s_iqr}')"
   ]
  },
  {
   "cell_type": "code",
   "execution_count": 25,
   "id": "52392b30-f35c-42e6-81f0-d00e698751c7",
   "metadata": {},
   "outputs": [
    {
     "name": "stdout",
     "output_type": "stream",
     "text": [
      "Upper limit Salary:, 15455.0\n",
      "Lower limit Salary:, 545.0\n"
     ]
    }
   ],
   "source": [
    "upper_limit_salary = s_q3 + (1.5 * s_iqr)\n",
    "lower_limit_salary = s_q3 - (1.5 * s_iqr)\n",
    "print(f\"Upper limit Salary:, {upper_limit_salary}\")\n",
    "print(f\"Lower limit Salary:, {lower_limit_salary}\")"
   ]
  },
  {
   "cell_type": "code",
   "execution_count": 26,
   "id": "11bad69e-e6ab-4ef8-9a27-78970ef39387",
   "metadata": {},
   "outputs": [
    {
     "name": "stdout",
     "output_type": "stream",
     "text": [
      "Outliers:\n"
     ]
    },
    {
     "data": {
      "text/html": [
       "<div>\n",
       "<style scoped>\n",
       "    .dataframe tbody tr th:only-of-type {\n",
       "        vertical-align: middle;\n",
       "    }\n",
       "\n",
       "    .dataframe tbody tr th {\n",
       "        vertical-align: top;\n",
       "    }\n",
       "\n",
       "    .dataframe thead th {\n",
       "        text-align: right;\n",
       "    }\n",
       "</style>\n",
       "<table border=\"1\" class=\"dataframe\">\n",
       "  <thead>\n",
       "    <tr style=\"text-align: right;\">\n",
       "      <th></th>\n",
       "      <th>Company</th>\n",
       "      <th>Age</th>\n",
       "      <th>Salary</th>\n",
       "      <th>Place</th>\n",
       "      <th>Country</th>\n",
       "      <th>Gender</th>\n",
       "    </tr>\n",
       "  </thead>\n",
       "  <tbody>\n",
       "  </tbody>\n",
       "</table>\n",
       "</div>"
      ],
      "text/plain": [
       "Empty DataFrame\n",
       "Columns: [Company, Age, Salary, Place, Country, Gender]\n",
       "Index: []"
      ]
     },
     "execution_count": 26,
     "metadata": {},
     "output_type": "execute_result"
    }
   ],
   "source": [
    "# Find outliers in Salary\n",
    "outliers = unique_df.loc[(unique_df['Salary'] > upper_limit_salary) | (unique_df['Salary'] < lower_limit_salary)]\n",
    "print(\"Outliers:\")\n",
    "outliers"
   ]
  },
  {
   "cell_type": "markdown",
   "id": "c9e8055e-c8d8-4b9a-979b-176d94795761",
   "metadata": {},
   "source": [
    "<span style = 'background:yellow'>There are no outliers in the column Salary.</span>"
   ]
  },
  {
   "cell_type": "markdown",
   "id": "a6c6a0e0-4317-4e00-b713-f569f9128007",
   "metadata": {},
   "source": [
    "### Replacing inappropriate values in the column gender"
   ]
  },
  {
   "cell_type": "code",
   "execution_count": 27,
   "id": "e60e2072-2951-4c36-ace1-5188470eb332",
   "metadata": {},
   "outputs": [
    {
     "data": {
      "text/html": [
       "<div>\n",
       "<style scoped>\n",
       "    .dataframe tbody tr th:only-of-type {\n",
       "        vertical-align: middle;\n",
       "    }\n",
       "\n",
       "    .dataframe tbody tr th {\n",
       "        vertical-align: top;\n",
       "    }\n",
       "\n",
       "    .dataframe thead th {\n",
       "        text-align: right;\n",
       "    }\n",
       "</style>\n",
       "<table border=\"1\" class=\"dataframe\">\n",
       "  <thead>\n",
       "    <tr style=\"text-align: right;\">\n",
       "      <th></th>\n",
       "      <th>Company</th>\n",
       "      <th>Age</th>\n",
       "      <th>Salary</th>\n",
       "      <th>Place</th>\n",
       "      <th>Country</th>\n",
       "      <th>Gender</th>\n",
       "    </tr>\n",
       "  </thead>\n",
       "  <tbody>\n",
       "    <tr>\n",
       "      <th>0</th>\n",
       "      <td>TCS</td>\n",
       "      <td>20.0</td>\n",
       "      <td>NaN</td>\n",
       "      <td>Chennai</td>\n",
       "      <td>India</td>\n",
       "      <td>Male</td>\n",
       "    </tr>\n",
       "    <tr>\n",
       "      <th>1</th>\n",
       "      <td>Infosys</td>\n",
       "      <td>30.0</td>\n",
       "      <td>NaN</td>\n",
       "      <td>Mumbai</td>\n",
       "      <td>India</td>\n",
       "      <td>Male</td>\n",
       "    </tr>\n",
       "    <tr>\n",
       "      <th>2</th>\n",
       "      <td>TCS</td>\n",
       "      <td>35.0</td>\n",
       "      <td>2300.0</td>\n",
       "      <td>Calcutta</td>\n",
       "      <td>India</td>\n",
       "      <td>Male</td>\n",
       "    </tr>\n",
       "    <tr>\n",
       "      <th>3</th>\n",
       "      <td>Infosys</td>\n",
       "      <td>40.0</td>\n",
       "      <td>3000.0</td>\n",
       "      <td>Delhi</td>\n",
       "      <td>India</td>\n",
       "      <td>Male</td>\n",
       "    </tr>\n",
       "    <tr>\n",
       "      <th>4</th>\n",
       "      <td>TCS</td>\n",
       "      <td>23.0</td>\n",
       "      <td>4000.0</td>\n",
       "      <td>Mumbai</td>\n",
       "      <td>India</td>\n",
       "      <td>Male</td>\n",
       "    </tr>\n",
       "    <tr>\n",
       "      <th>...</th>\n",
       "      <td>...</td>\n",
       "      <td>...</td>\n",
       "      <td>...</td>\n",
       "      <td>...</td>\n",
       "      <td>...</td>\n",
       "      <td>...</td>\n",
       "    </tr>\n",
       "    <tr>\n",
       "      <th>139</th>\n",
       "      <td>Infosys Pvt Lmt</td>\n",
       "      <td>22.0</td>\n",
       "      <td>8202.0</td>\n",
       "      <td>Mumbai</td>\n",
       "      <td>India</td>\n",
       "      <td>Male</td>\n",
       "    </tr>\n",
       "    <tr>\n",
       "      <th>140</th>\n",
       "      <td>TCS</td>\n",
       "      <td>33.0</td>\n",
       "      <td>9024.0</td>\n",
       "      <td>Calcutta</td>\n",
       "      <td>India</td>\n",
       "      <td>Female</td>\n",
       "    </tr>\n",
       "    <tr>\n",
       "      <th>141</th>\n",
       "      <td>Infosys</td>\n",
       "      <td>44.0</td>\n",
       "      <td>4034.0</td>\n",
       "      <td>Delhi</td>\n",
       "      <td>India</td>\n",
       "      <td>Female</td>\n",
       "    </tr>\n",
       "    <tr>\n",
       "      <th>142</th>\n",
       "      <td>TCS</td>\n",
       "      <td>33.0</td>\n",
       "      <td>5034.0</td>\n",
       "      <td>Mumbai</td>\n",
       "      <td>India</td>\n",
       "      <td>Female</td>\n",
       "    </tr>\n",
       "    <tr>\n",
       "      <th>143</th>\n",
       "      <td>Infosys</td>\n",
       "      <td>22.0</td>\n",
       "      <td>8202.0</td>\n",
       "      <td>Cochin</td>\n",
       "      <td>India</td>\n",
       "      <td>Male</td>\n",
       "    </tr>\n",
       "  </tbody>\n",
       "</table>\n",
       "<p>144 rows × 6 columns</p>\n",
       "</div>"
      ],
      "text/plain": [
       "             Company   Age  Salary     Place Country  Gender\n",
       "0                TCS  20.0     NaN   Chennai   India    Male\n",
       "1            Infosys  30.0     NaN    Mumbai   India    Male\n",
       "2                TCS  35.0  2300.0  Calcutta   India    Male\n",
       "3            Infosys  40.0  3000.0     Delhi   India    Male\n",
       "4                TCS  23.0  4000.0    Mumbai   India    Male\n",
       "..               ...   ...     ...       ...     ...     ...\n",
       "139  Infosys Pvt Lmt  22.0  8202.0    Mumbai   India    Male\n",
       "140              TCS  33.0  9024.0  Calcutta   India  Female\n",
       "141          Infosys  44.0  4034.0     Delhi   India  Female\n",
       "142              TCS  33.0  5034.0    Mumbai   India  Female\n",
       "143          Infosys  22.0  8202.0    Cochin   India    Male\n",
       "\n",
       "[144 rows x 6 columns]"
      ]
     },
     "execution_count": 27,
     "metadata": {},
     "output_type": "execute_result"
    }
   ],
   "source": [
    "unique_df['Gender'] = unique_df['Gender'].replace({0: 'Male', 1: 'Female'})\n",
    "unique_df"
   ]
  },
  {
   "cell_type": "markdown",
   "id": "c40f3d8b-716a-43ec-85b7-a1248973f107",
   "metadata": {},
   "source": [
    "### Replace the value 0 in age as NaN"
   ]
  },
  {
   "cell_type": "code",
   "execution_count": 28,
   "id": "6354c523-d175-4732-912e-c3d484fcc524",
   "metadata": {},
   "outputs": [
    {
     "name": "stdout",
     "output_type": "stream",
     "text": [
      "<class 'pandas.core.frame.DataFrame'>\n",
      "RangeIndex: 144 entries, 0 to 143\n",
      "Data columns (total 6 columns):\n",
      " #   Column   Non-Null Count  Dtype  \n",
      "---  ------   --------------  -----  \n",
      " 0   Company  136 non-null    object \n",
      " 1   Age      121 non-null    float64\n",
      " 2   Salary   121 non-null    float64\n",
      " 3   Place    130 non-null    object \n",
      " 4   Country  144 non-null    object \n",
      " 5   Gender   144 non-null    object \n",
      "dtypes: float64(2), object(4)\n",
      "memory usage: 6.9+ KB\n"
     ]
    },
    {
     "data": {
      "text/html": [
       "<div>\n",
       "<style scoped>\n",
       "    .dataframe tbody tr th:only-of-type {\n",
       "        vertical-align: middle;\n",
       "    }\n",
       "\n",
       "    .dataframe tbody tr th {\n",
       "        vertical-align: top;\n",
       "    }\n",
       "\n",
       "    .dataframe thead th {\n",
       "        text-align: right;\n",
       "    }\n",
       "</style>\n",
       "<table border=\"1\" class=\"dataframe\">\n",
       "  <thead>\n",
       "    <tr style=\"text-align: right;\">\n",
       "      <th></th>\n",
       "      <th>Age</th>\n",
       "      <th>Salary</th>\n",
       "    </tr>\n",
       "  </thead>\n",
       "  <tbody>\n",
       "    <tr>\n",
       "      <th>count</th>\n",
       "      <td>121.000000</td>\n",
       "      <td>121.000000</td>\n",
       "    </tr>\n",
       "    <tr>\n",
       "      <th>mean</th>\n",
       "      <td>32.041322</td>\n",
       "      <td>5283.471074</td>\n",
       "    </tr>\n",
       "    <tr>\n",
       "      <th>std</th>\n",
       "      <td>8.989250</td>\n",
       "      <td>2585.373600</td>\n",
       "    </tr>\n",
       "    <tr>\n",
       "      <th>min</th>\n",
       "      <td>17.000000</td>\n",
       "      <td>1089.000000</td>\n",
       "    </tr>\n",
       "    <tr>\n",
       "      <th>25%</th>\n",
       "      <td>23.000000</td>\n",
       "      <td>3030.000000</td>\n",
       "    </tr>\n",
       "    <tr>\n",
       "      <th>50%</th>\n",
       "      <td>33.000000</td>\n",
       "      <td>5000.000000</td>\n",
       "    </tr>\n",
       "    <tr>\n",
       "      <th>75%</th>\n",
       "      <td>40.000000</td>\n",
       "      <td>8000.000000</td>\n",
       "    </tr>\n",
       "    <tr>\n",
       "      <th>max</th>\n",
       "      <td>54.000000</td>\n",
       "      <td>9876.000000</td>\n",
       "    </tr>\n",
       "  </tbody>\n",
       "</table>\n",
       "</div>"
      ],
      "text/plain": [
       "              Age       Salary\n",
       "count  121.000000   121.000000\n",
       "mean    32.041322  5283.471074\n",
       "std      8.989250  2585.373600\n",
       "min     17.000000  1089.000000\n",
       "25%     23.000000  3030.000000\n",
       "50%     33.000000  5000.000000\n",
       "75%     40.000000  8000.000000\n",
       "max     54.000000  9876.000000"
      ]
     },
     "execution_count": 28,
     "metadata": {},
     "output_type": "execute_result"
    }
   ],
   "source": [
    "unique_df['Age'] = unique_df['Age'].astype(float)\n",
    "unique_df['Age'] = unique_df['Age'].replace({0: np.nan})\n",
    "unique_df.info()\n",
    "unique_df.describe()"
   ]
  },
  {
   "cell_type": "markdown",
   "id": "38a2a5e0-b766-4b74-994b-86c5f62e4fa6",
   "metadata": {},
   "source": [
    "### Treat the null values in all columns using any measures(removing/ replace the values with mean/median/mode)"
   ]
  },
  {
   "cell_type": "markdown",
   "id": "b58d087a-8f58-4a05-b02e-b6f04193f62c",
   "metadata": {},
   "source": [
    "<span style = 'background:yellow'>The missing values in the column Company and Place can be replaced with the mode value, the missing values in the column Age and Salary can be replaced with the mean value and the values in the column gender are in appropriate cane be replaced with Male and Female accordingly.</span>"
   ]
  },
  {
   "cell_type": "code",
   "execution_count": 29,
   "id": "73e42839-c779-482b-9aeb-42998bb41596",
   "metadata": {},
   "outputs": [
    {
     "name": "stdout",
     "output_type": "stream",
     "text": [
      "Mean of Age:32.04\n",
      "Mean of Salary:5283.47\n",
      "Mode of Company:TCS\n",
      "Mode of Place:Mumbai\n"
     ]
    }
   ],
   "source": [
    "mean_age = unique_df['Age'].mean()\n",
    "mean_salary = unique_df['Salary'].mean()\n",
    "mode_company = unique_df['Company'].mode().iloc[0]\n",
    "mode_place = unique_df['Place'].mode().iloc[0]\n",
    "\n",
    "print(f\"Mean of Age:{mean_age:.2f}\")\n",
    "print(f\"Mean of Salary:{mean_salary:.2f}\")\n",
    "print(f\"Mode of Company:{mode_company}\")\n",
    "print(f\"Mode of Place:{mode_place}\")"
   ]
  },
  {
   "cell_type": "code",
   "execution_count": null,
   "id": "0031e709-6095-40fa-ac02-a45bc4d0c827",
   "metadata": {},
   "outputs": [],
   "source": [
    "# Replacing the corresponding values"
   ]
  },
  {
   "cell_type": "code",
   "execution_count": 30,
   "id": "20741167-fcaf-46a0-a650-9fe9ba79b6f3",
   "metadata": {},
   "outputs": [
    {
     "name": "stdout",
     "output_type": "stream",
     "text": [
      "<class 'pandas.core.frame.DataFrame'>\n",
      "RangeIndex: 144 entries, 0 to 143\n",
      "Data columns (total 6 columns):\n",
      " #   Column   Non-Null Count  Dtype  \n",
      "---  ------   --------------  -----  \n",
      " 0   Company  144 non-null    object \n",
      " 1   Age      144 non-null    float64\n",
      " 2   Salary   144 non-null    float64\n",
      " 3   Place    144 non-null    object \n",
      " 4   Country  144 non-null    object \n",
      " 5   Gender   144 non-null    object \n",
      "dtypes: float64(2), object(4)\n",
      "memory usage: 6.9+ KB\n"
     ]
    },
    {
     "data": {
      "text/html": [
       "<div>\n",
       "<style scoped>\n",
       "    .dataframe tbody tr th:only-of-type {\n",
       "        vertical-align: middle;\n",
       "    }\n",
       "\n",
       "    .dataframe tbody tr th {\n",
       "        vertical-align: top;\n",
       "    }\n",
       "\n",
       "    .dataframe thead th {\n",
       "        text-align: right;\n",
       "    }\n",
       "</style>\n",
       "<table border=\"1\" class=\"dataframe\">\n",
       "  <thead>\n",
       "    <tr style=\"text-align: right;\">\n",
       "      <th></th>\n",
       "      <th>Age</th>\n",
       "      <th>Salary</th>\n",
       "    </tr>\n",
       "  </thead>\n",
       "  <tbody>\n",
       "    <tr>\n",
       "      <th>count</th>\n",
       "      <td>144.000000</td>\n",
       "      <td>144.000000</td>\n",
       "    </tr>\n",
       "    <tr>\n",
       "      <th>mean</th>\n",
       "      <td>32.041322</td>\n",
       "      <td>5283.471074</td>\n",
       "    </tr>\n",
       "    <tr>\n",
       "      <th>std</th>\n",
       "      <td>8.234667</td>\n",
       "      <td>2368.350165</td>\n",
       "    </tr>\n",
       "    <tr>\n",
       "      <th>min</th>\n",
       "      <td>17.000000</td>\n",
       "      <td>1089.000000</td>\n",
       "    </tr>\n",
       "    <tr>\n",
       "      <th>25%</th>\n",
       "      <td>23.750000</td>\n",
       "      <td>3045.000000</td>\n",
       "    </tr>\n",
       "    <tr>\n",
       "      <th>50%</th>\n",
       "      <td>32.041322</td>\n",
       "      <td>5283.471074</td>\n",
       "    </tr>\n",
       "    <tr>\n",
       "      <th>75%</th>\n",
       "      <td>36.000000</td>\n",
       "      <td>7084.000000</td>\n",
       "    </tr>\n",
       "    <tr>\n",
       "      <th>max</th>\n",
       "      <td>54.000000</td>\n",
       "      <td>9876.000000</td>\n",
       "    </tr>\n",
       "  </tbody>\n",
       "</table>\n",
       "</div>"
      ],
      "text/plain": [
       "              Age       Salary\n",
       "count  144.000000   144.000000\n",
       "mean    32.041322  5283.471074\n",
       "std      8.234667  2368.350165\n",
       "min     17.000000  1089.000000\n",
       "25%     23.750000  3045.000000\n",
       "50%     32.041322  5283.471074\n",
       "75%     36.000000  7084.000000\n",
       "max     54.000000  9876.000000"
      ]
     },
     "execution_count": 30,
     "metadata": {},
     "output_type": "execute_result"
    }
   ],
   "source": [
    "unique_df['Age'] = unique_df['Age'].fillna(mean_age)\n",
    "unique_df['Salary'] = unique_df['Salary'].fillna(mean_salary)\n",
    "unique_df['Company'] = unique_df['Company'].fillna(mode_company)\n",
    "unique_df['Place'] = unique_df['Place'].fillna(mode_place)\n",
    "\n",
    "unique_df.info()\n",
    "unique_df.describe()"
   ]
  },
  {
   "cell_type": "markdown",
   "id": "8cbbcc17-e1aa-4c24-b51c-2d718edd6c90",
   "metadata": {},
   "source": [
    "<hr style=\"border-color: black;\">\n",
    "<h1 align=\"left\"><font color=\"blue\">Data Analysis</font></h1>\n",
    "<hr style=\"border-color: black;\">"
   ]
  },
  {
   "cell_type": "markdown",
   "id": "a220b789-b75b-40b4-892e-01776a52eaf9",
   "metadata": {},
   "source": [
    "### Filter the data with age >40 and salary<5000"
   ]
  },
  {
   "cell_type": "code",
   "execution_count": 31,
   "id": "c3bbf471-131d-42c8-905a-5f87af599e62",
   "metadata": {},
   "outputs": [
    {
     "data": {
      "text/html": [
       "<div>\n",
       "<style scoped>\n",
       "    .dataframe tbody tr th:only-of-type {\n",
       "        vertical-align: middle;\n",
       "    }\n",
       "\n",
       "    .dataframe tbody tr th {\n",
       "        vertical-align: top;\n",
       "    }\n",
       "\n",
       "    .dataframe thead th {\n",
       "        text-align: right;\n",
       "    }\n",
       "</style>\n",
       "<table border=\"1\" class=\"dataframe\">\n",
       "  <thead>\n",
       "    <tr style=\"text-align: right;\">\n",
       "      <th></th>\n",
       "      <th>Company</th>\n",
       "      <th>Age</th>\n",
       "      <th>Salary</th>\n",
       "      <th>Place</th>\n",
       "      <th>Country</th>\n",
       "      <th>Gender</th>\n",
       "    </tr>\n",
       "  </thead>\n",
       "  <tbody>\n",
       "    <tr>\n",
       "      <th>21</th>\n",
       "      <td>Infosys</td>\n",
       "      <td>50.0</td>\n",
       "      <td>3184.0</td>\n",
       "      <td>Delhi</td>\n",
       "      <td>India</td>\n",
       "      <td>Male</td>\n",
       "    </tr>\n",
       "    <tr>\n",
       "      <th>32</th>\n",
       "      <td>Infosys</td>\n",
       "      <td>45.0</td>\n",
       "      <td>4034.0</td>\n",
       "      <td>Calcutta</td>\n",
       "      <td>India</td>\n",
       "      <td>Male</td>\n",
       "    </tr>\n",
       "    <tr>\n",
       "      <th>39</th>\n",
       "      <td>Infosys</td>\n",
       "      <td>41.0</td>\n",
       "      <td>3000.0</td>\n",
       "      <td>Mumbai</td>\n",
       "      <td>India</td>\n",
       "      <td>Male</td>\n",
       "    </tr>\n",
       "    <tr>\n",
       "      <th>50</th>\n",
       "      <td>Infosys</td>\n",
       "      <td>41.0</td>\n",
       "      <td>3000.0</td>\n",
       "      <td>Chennai</td>\n",
       "      <td>India</td>\n",
       "      <td>Male</td>\n",
       "    </tr>\n",
       "    <tr>\n",
       "      <th>57</th>\n",
       "      <td>Infosys</td>\n",
       "      <td>51.0</td>\n",
       "      <td>3184.0</td>\n",
       "      <td>Hyderabad</td>\n",
       "      <td>India</td>\n",
       "      <td>Male</td>\n",
       "    </tr>\n",
       "    <tr>\n",
       "      <th>68</th>\n",
       "      <td>Infosys</td>\n",
       "      <td>43.0</td>\n",
       "      <td>4034.0</td>\n",
       "      <td>Mumbai</td>\n",
       "      <td>India</td>\n",
       "      <td>Male</td>\n",
       "    </tr>\n",
       "    <tr>\n",
       "      <th>75</th>\n",
       "      <td>Infosys</td>\n",
       "      <td>44.0</td>\n",
       "      <td>3000.0</td>\n",
       "      <td>Cochin</td>\n",
       "      <td>India</td>\n",
       "      <td>Male</td>\n",
       "    </tr>\n",
       "    <tr>\n",
       "      <th>85</th>\n",
       "      <td>Infosys</td>\n",
       "      <td>41.0</td>\n",
       "      <td>3000.0</td>\n",
       "      <td>Delhi</td>\n",
       "      <td>India</td>\n",
       "      <td>Male</td>\n",
       "    </tr>\n",
       "    <tr>\n",
       "      <th>92</th>\n",
       "      <td>Infosys</td>\n",
       "      <td>54.0</td>\n",
       "      <td>3184.0</td>\n",
       "      <td>Mumbai</td>\n",
       "      <td>India</td>\n",
       "      <td>Male</td>\n",
       "    </tr>\n",
       "    <tr>\n",
       "      <th>103</th>\n",
       "      <td>Infosys</td>\n",
       "      <td>44.0</td>\n",
       "      <td>4034.0</td>\n",
       "      <td>Delhi</td>\n",
       "      <td>India</td>\n",
       "      <td>Male</td>\n",
       "    </tr>\n",
       "    <tr>\n",
       "      <th>121</th>\n",
       "      <td>Infosys</td>\n",
       "      <td>44.0</td>\n",
       "      <td>3234.0</td>\n",
       "      <td>Mumbai</td>\n",
       "      <td>India</td>\n",
       "      <td>Male</td>\n",
       "    </tr>\n",
       "    <tr>\n",
       "      <th>128</th>\n",
       "      <td>Infosys</td>\n",
       "      <td>50.0</td>\n",
       "      <td>3184.0</td>\n",
       "      <td>Calcutta</td>\n",
       "      <td>India</td>\n",
       "      <td>Male</td>\n",
       "    </tr>\n",
       "    <tr>\n",
       "      <th>135</th>\n",
       "      <td>CTS</td>\n",
       "      <td>44.0</td>\n",
       "      <td>3033.0</td>\n",
       "      <td>Cochin</td>\n",
       "      <td>India</td>\n",
       "      <td>Male</td>\n",
       "    </tr>\n",
       "    <tr>\n",
       "      <th>137</th>\n",
       "      <td>Infosys</td>\n",
       "      <td>44.0</td>\n",
       "      <td>4034.0</td>\n",
       "      <td>Hyderabad</td>\n",
       "      <td>India</td>\n",
       "      <td>Male</td>\n",
       "    </tr>\n",
       "    <tr>\n",
       "      <th>141</th>\n",
       "      <td>Infosys</td>\n",
       "      <td>44.0</td>\n",
       "      <td>4034.0</td>\n",
       "      <td>Delhi</td>\n",
       "      <td>India</td>\n",
       "      <td>Female</td>\n",
       "    </tr>\n",
       "  </tbody>\n",
       "</table>\n",
       "</div>"
      ],
      "text/plain": [
       "     Company   Age  Salary      Place Country  Gender\n",
       "21   Infosys  50.0  3184.0      Delhi   India    Male\n",
       "32   Infosys  45.0  4034.0   Calcutta   India    Male\n",
       "39   Infosys  41.0  3000.0     Mumbai   India    Male\n",
       "50   Infosys  41.0  3000.0    Chennai   India    Male\n",
       "57   Infosys  51.0  3184.0  Hyderabad   India    Male\n",
       "68   Infosys  43.0  4034.0     Mumbai   India    Male\n",
       "75   Infosys  44.0  3000.0     Cochin   India    Male\n",
       "85   Infosys  41.0  3000.0      Delhi   India    Male\n",
       "92   Infosys  54.0  3184.0     Mumbai   India    Male\n",
       "103  Infosys  44.0  4034.0      Delhi   India    Male\n",
       "121  Infosys  44.0  3234.0     Mumbai   India    Male\n",
       "128  Infosys  50.0  3184.0   Calcutta   India    Male\n",
       "135      CTS  44.0  3033.0     Cochin   India    Male\n",
       "137  Infosys  44.0  4034.0  Hyderabad   India    Male\n",
       "141  Infosys  44.0  4034.0      Delhi   India  Female"
      ]
     },
     "execution_count": 31,
     "metadata": {},
     "output_type": "execute_result"
    }
   ],
   "source": [
    "filtered_df = unique_df[(unique_df['Age'] > 40) & (unique_df['Salary'] < 5000)]\n",
    "filtered_df "
   ]
  },
  {
   "cell_type": "markdown",
   "id": "811f6c9c-27d8-4a7c-8ae2-c0f3471fc16f",
   "metadata": {},
   "source": [
    "### Plot the chart with age and salary"
   ]
  },
  {
   "cell_type": "code",
   "execution_count": 32,
   "id": "518a911c-c1c5-4921-af2b-b77865d1dbd0",
   "metadata": {},
   "outputs": [
    {
     "data": {
      "image/png": "[encoded data removed]",
      "text/plain": [
       "<Figure size 1000x600 with 1 Axes>"
      ]
     },
     "metadata": {},
     "output_type": "display_data"
    }
   ],
   "source": [
    "plt.figure(figsize=(10, 6))\n",
    "plt.scatter(unique_df['Age'], unique_df['Salary'], color='blue', label='All Data')\n",
    "plt.scatter(filtered_df['Age'], filtered_df['Salary'], color='red', label='Filtered Data')\n",
    "plt.xlabel('Age')\n",
    "plt.ylabel('Salary')\n",
    "plt.title('Age vs Salary')\n",
    "plt.legend()\n",
    "plt.grid(True)\n",
    "plt.show()"
   ]
  },
  {
   "cell_type": "markdown",
   "id": "921e7b83-2ea3-4ce7-9536-3d4729b85579",
   "metadata": {},
   "source": [
    "### Count the number of people from each place and represent it visually"
   ]
  },
  {
   "cell_type": "code",
   "execution_count": 34,
   "id": "dfd6ba32-d2d6-4214-b0e9-71c5371fc7fb",
   "metadata": {},
   "outputs": [
    {
     "data": {
      "text/plain": [
       "Place\n",
       "Mumbai        48\n",
       "Calcutta      32\n",
       "Chennai       14\n",
       "Delhi         14\n",
       "Cochin        13\n",
       "Noida          8\n",
       "Hyderabad      8\n",
       "Podicherry     3\n",
       "Pune           2\n",
       "Bhopal         1\n",
       "Nagpur         1\n",
       "Name: count, dtype: int64"
      ]
     },
     "execution_count": 34,
     "metadata": {},
     "output_type": "execute_result"
    }
   ],
   "source": [
    "place_df = unique_df['Place'].value_counts()\n",
    "place_df"
   ]
  },
  {
   "cell_type": "code",
   "execution_count": 35,
   "id": "975b6260-55c3-407e-94af-1a699ba80c73",
   "metadata": {},
   "outputs": [
    {
     "data": {
      "image/png": "[encoded data removed]",
      "text/plain": [
       "<Figure size 800x500 with 1 Axes>"
      ]
     },
     "metadata": {},
     "output_type": "display_data"
    }
   ],
   "source": [
    "plt.figure(figsize=(8, 5))\n",
    "place_df.plot(kind='bar', color='green')\n",
    "plt.xlabel('Place')\n",
    "plt.ylabel('Count')\n",
    "plt.title('Number of People from Each Place')\n",
    "plt.xticks(rotation = 45)\n",
    "plt.grid(True)\n",
    "plt.show()"
   ]
  },
  {
   "cell_type": "markdown",
   "id": "4ed98b10-50ff-4b40-bceb-f5d4088b3bb5",
   "metadata": {},
   "source": [
    "<hr style=\"border-color: black;\">\n",
    "<h1 align=\"left\"><font color=\"blue\">Data Encoding:</font></h1>\n",
    "<hr style=\"border-color: black;\">"
   ]
  },
  {
   "cell_type": "markdown",
   "id": "439fe8c4-119d-4939-8674-94319f7c2a9e",
   "metadata": {},
   "source": [
    "### Convert categorical variables into numerical representations using techniques such as one-hot encoding, label encoding, making them suitable for analysis by machine learning algorithms."
   ]
  },
  {
   "cell_type": "markdown",
   "id": "f8d542fb-5e91-4271-b6c4-ced357002428",
   "metadata": {},
   "source": [
    "### Using One-hot encoding"
   ]
  },
  {
   "cell_type": "code",
   "execution_count": 36,
   "id": "289e49a7-89f5-4754-b827-bd2ae740ef08",
   "metadata": {},
   "outputs": [
    {
     "name": "stdout",
     "output_type": "stream",
     "text": [
      "      Age       Salary  Company_CTS  Company_Congnizant  Company_Infosys  \\\n",
      "0    20.0  5283.471074        False               False            False   \n",
      "1    30.0  5283.471074        False               False             True   \n",
      "2    35.0  2300.000000        False               False            False   \n",
      "3    40.0  3000.000000        False               False             True   \n",
      "4    23.0  4000.000000        False               False            False   \n",
      "..    ...          ...          ...                 ...              ...   \n",
      "139  22.0  8202.000000        False               False            False   \n",
      "140  33.0  9024.000000        False               False            False   \n",
      "141  44.0  4034.000000        False               False             True   \n",
      "142  33.0  5034.000000        False               False            False   \n",
      "143  22.0  8202.000000        False               False             True   \n",
      "\n",
      "     Company_Infosys Pvt Lmt  Company_TCS  Company_Tata Consultancy Services  \\\n",
      "0                      False         True                              False   \n",
      "1                      False        False                              False   \n",
      "2                      False         True                              False   \n",
      "3                      False        False                              False   \n",
      "4                      False         True                              False   \n",
      "..                       ...          ...                                ...   \n",
      "139                     True        False                              False   \n",
      "140                    False         True                              False   \n",
      "141                    False        False                              False   \n",
      "142                    False         True                              False   \n",
      "143                    False        False                              False   \n",
      "\n",
      "     Place_Bhopal  Place_Calcutta  ...  Place_Delhi  Place_Hyderabad  \\\n",
      "0           False           False  ...        False            False   \n",
      "1           False           False  ...        False            False   \n",
      "2           False            True  ...        False            False   \n",
      "3           False           False  ...         True            False   \n",
      "4           False           False  ...        False            False   \n",
      "..            ...             ...  ...          ...              ...   \n",
      "139         False           False  ...        False            False   \n",
      "140         False            True  ...        False            False   \n",
      "141         False           False  ...         True            False   \n",
      "142         False           False  ...        False            False   \n",
      "143         False           False  ...        False            False   \n",
      "\n",
      "     Place_Mumbai  Place_Nagpur  Place_Noida  Place_Podicherry  Place_Pune  \\\n",
      "0           False         False        False             False       False   \n",
      "1            True         False        False             False       False   \n",
      "2           False         False        False             False       False   \n",
      "3           False         False        False             False       False   \n",
      "4            True         False        False             False       False   \n",
      "..            ...           ...          ...               ...         ...   \n",
      "139          True         False        False             False       False   \n",
      "140         False         False        False             False       False   \n",
      "141         False         False        False             False       False   \n",
      "142          True         False        False             False       False   \n",
      "143         False         False        False             False       False   \n",
      "\n",
      "     Country_India  Gender_Female  Gender_Male  \n",
      "0             True          False         True  \n",
      "1             True          False         True  \n",
      "2             True          False         True  \n",
      "3             True          False         True  \n",
      "4             True          False         True  \n",
      "..             ...            ...          ...  \n",
      "139           True          False         True  \n",
      "140           True           True        False  \n",
      "141           True           True        False  \n",
      "142           True           True        False  \n",
      "143           True          False         True  \n",
      "\n",
      "[144 rows x 22 columns]\n"
     ]
    }
   ],
   "source": [
    "import numpy as np\n",
    "df_one_hot_encoded = pd.get_dummies(data = unique_df, columns = [\"Company\", \"Place\", \"Country\", \"Gender\"])\n",
    "print(df_one_hot_encoded )"
   ]
  },
  {
   "cell_type": "markdown",
   "id": "a0859433-73ff-4f45-ad0e-aa28151fa4b2",
   "metadata": {},
   "source": [
    "<hr style=\"border-color: black;\">\n",
    "<h1 align=\"left\"><font color=\"blue\">Feature Scaling:</font></h1>\n",
    "<hr style=\"border-color: black;\">"
   ]
  },
  {
   "cell_type": "markdown",
   "id": "4426e646-9958-4cf6-88cb-f06434044e5d",
   "metadata": {},
   "source": [
    "### After the process of encoding, perform the scaling of the features using standardscaler and minmaxscaler."
   ]
  },
  {
   "cell_type": "markdown",
   "id": "67d18f73-3a22-4b9d-b59e-e26c775972cf",
   "metadata": {},
   "source": [
    "### 1. Standardscaler"
   ]
  },
  {
   "cell_type": "code",
   "execution_count": 41,
   "id": "6f3843ee-27f1-4ca2-97da-32e3603209e6",
   "metadata": {},
   "outputs": [
    {
     "data": {
      "text/plain": [
       "array([[-1.46737581,  0.        ],\n",
       "       [-0.24875897,  0.        ],\n",
       "       [ 0.36054944, -1.26412245],\n",
       "       [ 0.96985786, -0.96752641],\n",
       "       [-1.10179076, -0.54381778],\n",
       "       [ 0.        , -0.12010914],\n",
       "       [ 0.        ,  0.30359949],\n",
       "       [-1.10179076,  0.72730813],\n",
       "       [ 0.23868776,  1.15101676],\n",
       "       [ 1.57916628,  1.57472539],\n",
       "       [-1.10179076,  0.        ],\n",
       "       [ 0.23868776, -1.77723361],\n",
       "       [ 1.57916628,  0.        ],\n",
       "       [-1.71109918, -1.71579586],\n",
       "       [ 0.96985786, -0.96752641],\n",
       "       [-1.10179076, -0.96752641],\n",
       "       [-1.10179076, -0.95481515],\n",
       "       [ 0.23868776, -0.12010914],\n",
       "       [-1.22365245,  0.        ],\n",
       "       [-0.00503561,  0.        ],\n",
       "       [ 0.60427281, -0.94845952],\n",
       "       [ 2.1884747 , -0.88956402],\n",
       "       [-1.34551413, -0.19468186],\n",
       "       [ 0.        ,  0.23368757],\n",
       "       [ 0.        ,  0.76289965],\n",
       "       [-1.10179076,  1.550574  ],\n",
       "       [ 0.23868776,  1.29719624],\n",
       "       [ 1.57916628,  1.69505864],\n",
       "       [-1.10179076,  1.94589416],\n",
       "       [ 0.36054944, -1.37682895],\n",
       "       [ 1.70102797,  1.00441357],\n",
       "       [-1.46737581, -0.99549118],\n",
       "       [ 1.57916628, -0.52941168],\n",
       "       [ 0.48241113, -0.10570305],\n",
       "       [-0.73620571,  1.2366059 ],\n",
       "       [ 0.36054944,  1.5848944 ],\n",
       "       [-0.00503561,  0.        ],\n",
       "       [ 0.36054944,  0.        ],\n",
       "       [ 0.23868776, -1.26412245],\n",
       "       [ 1.09171955, -0.96752641],\n",
       "       [-0.97992908, -0.3976383 ],\n",
       "       [ 0.        , -0.12010914],\n",
       "       [ 0.        ,  0.30359949],\n",
       "       [-0.85806739,  0.72730813],\n",
       "       [ 0.36054944,  1.15101676],\n",
       "       [ 1.70102797,  1.57472539],\n",
       "       [-0.97992908,  0.        ],\n",
       "       [-0.00503561, -1.77723361],\n",
       "       [ 1.33544292,  0.        ],\n",
       "       [-1.5892375 , -1.71579586],\n",
       "       [ 1.09171955, -0.96752641],\n",
       "       [-0.97992908, -0.96752641],\n",
       "       [-1.34551413, -0.95481515],\n",
       "       [ 0.36054944, -0.12010914],\n",
       "       [-1.34551413,  0.53409699],\n",
       "       [-0.00503561,  1.00441357],\n",
       "       [ 0.7261345 , -0.94845952],\n",
       "       [ 2.31033639, -0.88956402],\n",
       "       [-1.10179076, -0.19468186],\n",
       "       [ 0.        ,  0.23368757],\n",
       "       [ 0.        ,  0.76289965],\n",
       "       [-0.85806739,  1.550574  ],\n",
       "       [ 0.48241113,  1.29719624],\n",
       "       [ 1.09171955,  1.69505864],\n",
       "       [-0.85806739,  0.53367328],\n",
       "       [-0.12689729, -1.37682895],\n",
       "       [ 1.09171955,  0.        ],\n",
       "       [-1.34551413, -0.99549118],\n",
       "       [ 1.33544292, -0.52941168],\n",
       "       [-0.00503561, -0.10570305],\n",
       "       [-1.34551413,  1.2366059 ],\n",
       "       [ 0.23868776,  1.5848944 ],\n",
       "       [-0.97992908,  0.        ],\n",
       "       [ 0.23868776,  0.        ],\n",
       "       [ 0.60427281, -1.26412245],\n",
       "       [ 1.4573046 , -0.96752641],\n",
       "       [-0.00503561, -0.54381778],\n",
       "       [ 0.        , -0.12010914],\n",
       "       [ 0.        ,  0.30359949],\n",
       "       [-0.73620571,  0.72730813],\n",
       "       [-0.00503561,  1.15101676],\n",
       "       [ 1.33544292,  1.57472539],\n",
       "       [-1.22365245,  0.        ],\n",
       "       [ 0.11682608, -1.77723361],\n",
       "       [-1.83296087, -1.71579586],\n",
       "       [ 1.09171955, -0.96752641],\n",
       "       [-1.34551413, -0.96752641],\n",
       "       [ 0.        , -0.95481515],\n",
       "       [ 0.48241113, -0.12010914],\n",
       "       [-1.34551413,  0.        ],\n",
       "       [ 0.23868776,  0.        ],\n",
       "       [ 0.        , -0.94845952],\n",
       "       [ 2.67592144, -0.88956402],\n",
       "       [-1.22365245, -0.19468186],\n",
       "       [ 0.        ,  0.23368757],\n",
       "       [ 0.        ,  0.76289965],\n",
       "       [-1.22365245,  1.550574  ],\n",
       "       [ 0.11682608,  1.29719624],\n",
       "       [ 1.4573046 ,  1.69505864],\n",
       "       [-1.22365245,  0.        ],\n",
       "       [ 0.        , -1.37682895],\n",
       "       [ 1.4573046 ,  0.        ],\n",
       "       [-1.22365245, -0.99549118],\n",
       "       [ 1.4573046 , -0.52941168],\n",
       "       [ 0.11682608, -0.10570305],\n",
       "       [-1.22365245,  1.2366059 ],\n",
       "       [ 0.        ,  1.5848944 ],\n",
       "       [ 0.11682608,  0.        ],\n",
       "       [ 0.11682608,  0.        ],\n",
       "       [ 0.11682608, -1.26412245],\n",
       "       [ 0.        , -0.86837859],\n",
       "       [-1.22365245, -0.40653618],\n",
       "       [ 0.        ,  0.06420411],\n",
       "       [ 0.        ,  0.11504915],\n",
       "       [-1.22365245,  1.48447545],\n",
       "       [ 0.11682608,  1.48447545],\n",
       "       [ 1.4573046 ,  1.94589416],\n",
       "       [-1.22365245,  0.        ],\n",
       "       [ 0.11682608, -1.77723361],\n",
       "       [ 1.4573046 ,  0.        ],\n",
       "       [ 0.        , -1.71579586],\n",
       "       [ 1.4573046 , -0.86837859],\n",
       "       [ 0.        , -0.77516269],\n",
       "       [-1.22365245,  1.48447545],\n",
       "       [ 0.11682608,  0.1569963 ],\n",
       "       [-1.46737581, -0.11629576],\n",
       "       [-0.24875897, -0.0785857 ],\n",
       "       [ 0.11682608, -0.94845952],\n",
       "       [ 2.1884747 , -0.88956402],\n",
       "       [ 0.        ,  0.76289965],\n",
       "       [-1.22365245,  1.550574  ],\n",
       "       [-0.12689729,  1.29719624],\n",
       "       [ 0.96985786,  1.69505864],\n",
       "       [ 0.        ,  0.        ],\n",
       "       [-0.12689729, -1.37682895],\n",
       "       [ 1.4573046 , -0.95354402],\n",
       "       [-1.22365245, -0.99549118],\n",
       "       [ 1.4573046 , -0.52941168],\n",
       "       [ 0.11682608, -0.10570305],\n",
       "       [-1.22365245,  1.2366059 ],\n",
       "       [ 0.11682608,  1.5848944 ],\n",
       "       [ 1.4573046 , -0.52941168],\n",
       "       [ 0.11682608, -0.10570305],\n",
       "       [-1.22365245,  1.2366059 ]])"
      ]
     },
     "execution_count": 41,
     "metadata": {},
     "output_type": "execute_result"
    }
   ],
   "source": [
    "import pandas as pd\n",
    "from sklearn.preprocessing import StandardScaler\n",
    "\n",
    "unique_df = pd.DataFrame(data)\n",
    "\n",
    "# Select numeric columns only\n",
    "numeric_cols = ['Age', 'Salary']\n",
    "numeric_data = unique_df[numeric_cols]\n",
    "\n",
    "# Create a scaler object\n",
    "scaler = StandardScaler()\n",
    "\n",
    "# Fit the scaler on the numeric data\n",
    "scaler.fit(numeric_data)\n",
    "\n",
    "# Transform the numeric data\n",
    "scaled_data = scaler.transform(numeric_data)\n",
    "scaled_data"
   ]
  },
  {
   "cell_type": "markdown",
   "id": "fe340602-38f1-4ce9-bb67-9bd04d8812d4",
   "metadata": {},
   "source": [
    "### 2.Minmaxscaler"
   ]
  },
  {
   "cell_type": "code",
   "execution_count": 48,
   "id": "b38be06d-f49e-4e35-9bcd-c43435f6d953",
   "metadata": {},
   "outputs": [
    {
     "name": "stdout",
     "output_type": "stream",
     "text": [
      "[[0.08108108 0.47734962]\n",
      " [0.35135135 0.47734962]\n",
      " [0.48648649 0.13781723]\n",
      " [0.62162162 0.21748037]\n",
      " [0.16216216 0.33128485]\n",
      " [0.40652222 0.44508934]\n",
      " [0.40652222 0.55889382]\n",
      " [0.16216216 0.6726983 ]\n",
      " [0.45945946 0.78650279]\n",
      " [0.75675676 0.90030727]\n",
      " [0.16216216 0.47734962]\n",
      " [0.45945946 0.        ]\n",
      " [0.75675676 0.47734962]\n",
      " [0.02702703 0.01650165]\n",
      " [0.62162162 0.21748037]\n",
      " [0.16216216 0.21748037]\n",
      " [0.16216216 0.2208945 ]\n",
      " [0.45945946 0.44508934]\n",
      " [0.13513514 0.47734962]\n",
      " [0.40540541 0.47734962]\n",
      " [0.54054054 0.22260157]\n",
      " [0.89189189 0.23842039]\n",
      " [0.10810811 0.42505975]\n",
      " [0.40652222 0.54011608]\n",
      " [0.40652222 0.68225788]\n",
      " [0.16216216 0.89382042]\n",
      " [0.45945946 0.82576534]\n",
      " [0.75675676 0.93262775]\n",
      " [0.16216216 1.        ]\n",
      " [0.48648649 0.10754524]\n",
      " [0.78378378 0.74712644]\n",
      " [0.08108108 0.20996927]\n",
      " [0.75675676 0.33515421]\n",
      " [0.51351351 0.44895869]\n",
      " [0.24324324 0.80949129]\n",
      " [0.48648649 0.90303858]\n",
      " [0.40540541 0.47734962]\n",
      " [0.48648649 0.47734962]\n",
      " [0.45945946 0.13781723]\n",
      " [0.64864865 0.21748037]\n",
      " [0.18918919 0.3705474 ]\n",
      " [0.40652222 0.44508934]\n",
      " [0.40652222 0.55889382]\n",
      " [0.21621622 0.6726983 ]\n",
      " [0.48648649 0.78650279]\n",
      " [0.78378378 0.90030727]\n",
      " [0.18918919 0.47734962]\n",
      " [0.40540541 0.        ]\n",
      " [0.7027027  0.47734962]\n",
      " [0.05405405 0.01650165]\n",
      " [0.64864865 0.21748037]\n",
      " [0.18918919 0.21748037]\n",
      " [0.10810811 0.2208945 ]\n",
      " [0.48648649 0.44508934]\n",
      " [0.10810811 0.62080346]\n",
      " [0.40540541 0.74712644]\n",
      " [0.56756757 0.22260157]\n",
      " [0.91891892 0.23842039]\n",
      " [0.16216216 0.42505975]\n",
      " [0.40652222 0.54011608]\n",
      " [0.40652222 0.68225788]\n",
      " [0.21621622 0.89382042]\n",
      " [0.51351351 0.82576534]\n",
      " [0.64864865 0.93262775]\n",
      " [0.21621622 0.62068966]\n",
      " [0.37837838 0.10754524]\n",
      " [0.64864865 0.47734962]\n",
      " [0.10810811 0.20996927]\n",
      " [0.7027027  0.33515421]\n",
      " [0.40540541 0.44895869]\n",
      " [0.10810811 0.80949129]\n",
      " [0.45945946 0.90303858]\n",
      " [0.18918919 0.47734962]\n",
      " [0.45945946 0.47734962]\n",
      " [0.54054054 0.13781723]\n",
      " [0.72972973 0.21748037]\n",
      " [0.40540541 0.33128485]\n",
      " [0.40652222 0.44508934]\n",
      " [0.40652222 0.55889382]\n",
      " [0.24324324 0.6726983 ]\n",
      " [0.40540541 0.78650279]\n",
      " [0.7027027  0.90030727]\n",
      " [0.13513514 0.47734962]\n",
      " [0.43243243 0.        ]\n",
      " [0.         0.01650165]\n",
      " [0.64864865 0.21748037]\n",
      " [0.10810811 0.21748037]\n",
      " [0.40652222 0.2208945 ]\n",
      " [0.51351351 0.44508934]\n",
      " [0.10810811 0.47734962]\n",
      " [0.45945946 0.47734962]\n",
      " [0.40652222 0.22260157]\n",
      " [1.         0.23842039]\n",
      " [0.13513514 0.42505975]\n",
      " [0.40652222 0.54011608]\n",
      " [0.40652222 0.68225788]\n",
      " [0.13513514 0.89382042]\n",
      " [0.43243243 0.82576534]\n",
      " [0.72972973 0.93262775]\n",
      " [0.13513514 0.47734962]\n",
      " [0.40652222 0.10754524]\n",
      " [0.72972973 0.47734962]\n",
      " [0.13513514 0.20996927]\n",
      " [0.72972973 0.33515421]\n",
      " [0.43243243 0.44895869]\n",
      " [0.13513514 0.80949129]\n",
      " [0.40652222 0.90303858]\n",
      " [0.43243243 0.47734962]\n",
      " [0.43243243 0.47734962]\n",
      " [0.43243243 0.13781723]\n",
      " [0.40652222 0.24411062]\n",
      " [0.13513514 0.36815751]\n",
      " [0.40652222 0.49459429]\n",
      " [0.40652222 0.50825083]\n",
      " [0.13513514 0.87606692]\n",
      " [0.43243243 0.87606692]\n",
      " [0.72972973 1.        ]\n",
      " [0.13513514 0.47734962]\n",
      " [0.43243243 0.        ]\n",
      " [0.72972973 0.47734962]\n",
      " [0.40652222 0.01650165]\n",
      " [0.72972973 0.24411062]\n",
      " [0.40652222 0.2691476 ]\n",
      " [0.13513514 0.87606692]\n",
      " [0.43243243 0.51951747]\n",
      " [0.08108108 0.44611358]\n",
      " [0.35135135 0.45624218]\n",
      " [0.43243243 0.22260157]\n",
      " [0.89189189 0.23842039]\n",
      " [0.40652222 0.68225788]\n",
      " [0.13513514 0.89382042]\n",
      " [0.37837838 0.82576534]\n",
      " [0.62162162 0.93262775]\n",
      " [0.40652222 0.47734962]\n",
      " [0.37837838 0.10754524]\n",
      " [0.72972973 0.22123592]\n",
      " [0.13513514 0.20996927]\n",
      " [0.72972973 0.33515421]\n",
      " [0.43243243 0.44895869]\n",
      " [0.13513514 0.80949129]\n",
      " [0.43243243 0.90303858]\n",
      " [0.72972973 0.33515421]\n",
      " [0.43243243 0.44895869]\n",
      " [0.13513514 0.80949129]]\n"
     ]
    }
   ],
   "source": [
    "import pandas as pd\n",
    "from sklearn.preprocessing import MinMaxScaler\n",
    "\n",
    "unique_df = pd.DataFrame(data)\n",
    "\n",
    "# Select numeric columns only for scaling\n",
    "numeric_cols = ['Age', 'Salary']\n",
    "numeric_data = unique_df[numeric_cols]\n",
    "\n",
    "# Create a scaler object\n",
    "scaler = MinMaxScaler()\n",
    "\n",
    "# Fit the scaler on the numeric data\n",
    "scaler.fit(numeric_data)\n",
    "\n",
    "# Transform the numeric data\n",
    "scaled_data = scaler.transform(numeric_data)\n",
    "print(scaled_data)"
   ]
  },
  {
   "cell_type": "markdown",
   "id": "49349032-5830-4890-9d3d-36a0f09b76bd",
   "metadata": {},
   "source": [
    "<h2 align=\"center\"><font color=\"Red\">END</font></h2"
   ]
  }
 ],
 "metadata": {
  "kernelspec": {
   "display_name": "Python 3 (ipykernel)",
   "language": "python",
   "name": "python3"
  },
  "language_info": {
   "codemirror_mode": {
    "name": "ipython",
    "version": 3
   },
   "file_extension": ".py",
   "mimetype": "text/x-python",
   "name": "python",
   "nbconvert_exporter": "python",
   "pygments_lexer": "ipython3",
   "version": "3.12.1"
  }
 },
 "nbformat": 4,
 "nbformat_minor": 5
}
